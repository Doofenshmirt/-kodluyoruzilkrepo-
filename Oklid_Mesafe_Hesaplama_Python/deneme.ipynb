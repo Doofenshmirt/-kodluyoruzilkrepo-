{
 "cells": [
  {
   "cell_type": "code",
   "execution_count": null,
   "metadata": {},
   "outputs": [],
   "source": [
    "import math\n",
    "\n",
    "def euclideanDistance(point1, point2):\n",
    "    \"\"\" İki nokta arasında Öklid mesafesini hesaplayan fonksiyon.\"\"\"\n",
    "    x1, y1 = point1\n",
    "    x2, y2 = point2\n",
    "    return math.sqrt((x2 - x1) ** 2 + (y2 - y1) ** 2)\n",
    "\n",
    "# Noktaların listesi\n",
    "points = [(1, 2), (3, 4), (5, 6), (7, 8), (2, 5)]\n",
    "\n",
    "# Mesafeleri saklamak için liste\n",
    "distances = []\n",
    "\n",
    "# Noktalar arasındaki mesafeleri hesaplayarak distances listesine ekleyin\n",
    "for i in range(len(points)):\n",
    "    for j in range(i + 1, len(points)):\n",
    "        distance = euclideanDistance(points[i], points[j])\n",
    "        distances.append(distance)\n",
    "\n",
    "# Minimum mesafeyi bul ve yazdır\n",
    "min_distance = min(distances)\n",
    "print(f\"Minimum Öklid mesafesi: {min_distance}\")\n"
   ]
  }
 ],
 "metadata": {
  "language_info": {
   "name": "python"
  }
 },
 "nbformat": 4,
 "nbformat_minor": 2
}
